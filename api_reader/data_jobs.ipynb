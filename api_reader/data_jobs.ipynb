{
 "cells": [
  {
   "cell_type": "markdown",
   "metadata": {},
   "source": [
    "### Importing packages"
   ]
  },
  {
   "cell_type": "code",
   "execution_count": 6,
   "metadata": {},
   "outputs": [],
   "source": [
    "import requests\n",
    "import pandas as pd"
   ]
  },
  {
   "cell_type": "markdown",
   "metadata": {},
   "source": [
    "### Creating functions to pull data from API\n",
    "Reference: https://www.glassdoor.com/developer/index.htm"
   ]
  },
  {
   "cell_type": "code",
   "execution_count": 7,
   "metadata": {},
   "outputs": [],
   "source": [
    "def get_jobs(partner_id, api_key, keyword, page, min_rating = 0, min_rec_perc = 0, min_reviews = 0):\n",
    "    url = \"https://api.glassdoor.com/api/api.htm\"\n",
    "    params = {\n",
    "        \"v\": \"1\",\n",
    "        \"format\": \"jsonß\",\n",
    "        \"t.p\": partner_id,\n",
    "        \"t.k\": api_key,\n",
    "        \"userip\": \"0.0.0.0\",\n",
    "        \"useragent\": \"Mozilla\",\n",
    "        \"action\": \"jobs\",\n",
    "        \"country\": 'United States', ### adding filters \n",
    "        \"q\": keyword,\n",
    "        \"page\": page,\n",
    "        \"minRating\": min_rating, ### adding filters \n",
    "        \"minRecommendPercent\": min_rec_perc, ### adding filters \n",
    "        \"minReviewCount\": min_reviews ### adding filters \n",
    "    }\n",
    "\n",
    "    response = requests.get(url, params=params)\n",
    "    data = response.json()\n",
    "    if response.status_code == 200:\n",
    "        return data[\"response\"][\"results\"]\n",
    "    else:\n",
    "        print(\"Error:\", data[\"status\"])\n",
    "        return []"
   ]
  },
  {
   "cell_type": "markdown",
   "metadata": {},
   "source": [
    "### Requesting user's API credentials from user\n",
    "The API requires a partner ID and an API Key to authenticate the session. So the first step is to get the credentials from the user.\n",
    "\n",
    "Moreover, the user will be asked which filters they would like to add to the query.\n",
    "\n",
    "In case no filter is required, the values will be set to 0, meaning the program will pull every job based on the search keywords. "
   ]
  },
  {
   "cell_type": "code",
   "execution_count": 10,
   "metadata": {},
   "outputs": [
    {
     "name": "stdout",
     "output_type": "stream",
     "text": [
      "Min Rating: 4.0\n",
      "Min Recommendation %: 4.0%\n",
      "Min Review Count: 20\n"
     ]
    }
   ],
   "source": [
    "usr_pid = input('Insert your partner ID: ')\n",
    "usr_api_key = input('Insert your API Key: ')\n",
    "min_rating = float(input('Insert the min desired rating: '))\n",
    "min_rec_perc = float(input('Insert the min recommendation %: '))\n",
    "min_reviews = int(input('Insert the min review count: '))\n",
    "\n",
    "print(f'Min Rating: {min_rating}\\nMin Recommendation %: {min_rating}%\\nMin Review Count: {min_reviews}')"
   ]
  },
  {
   "cell_type": "markdown",
   "metadata": {},
   "source": [
    "### Creating list with keywords to search through Glassdoor's API\n",
    "Lastly, the program asks the user to input all the search keywords to generate the list of jobs.\n",
    "\n",
    "It then goes on to create an Excel file containing all the scraped data in the same folder where the script is located."
   ]
  },
  {
   "cell_type": "code",
   "execution_count": null,
   "metadata": {},
   "outputs": [],
   "source": [
    "keyword_list = []\n",
    "\n",
    "while True:\n",
    "    answer = ''\n",
    "    kw = input('Type your job keyword: ').title()\n",
    "    if kw in keyword_list:\n",
    "        print('This keyword has already been included. Type another one')\n",
    "    else:\n",
    "        keyword_list.append(kw)\n",
    "        print(f'Keyword list: {keyword_list}')\n",
    "\n",
    "        while answer not in ('y', 'n'):\n",
    "            answer = input('Would you like to add any other keyword? (y/n) ').lower()\n",
    "\n",
    "        if answer == 'n': break\n",
    "        \n",
    "        else: pass\n",
    "        \n",
    "jobs_interested = []\n",
    "page = 1\n",
    "\n",
    "for keyword in keyword_list:\n",
    "    while True:\n",
    "        jobs = get_jobs(usr_pid, usr_api_key, keyword, page,  min_rating,  min_rec_perc, min_reviews)\n",
    "        if not jobs:\n",
    "            break\n",
    "        jobs_interested.extend(jobs)\n",
    "        page += 1\n",
    "\n",
    "df = pd.DataFrame(jobs_interested)\n",
    "df.to_excel(\"data_jobs.xlsx\", index=False)\n"
   ]
  }
 ],
 "metadata": {
  "kernelspec": {
   "display_name": ".venv",
   "language": "python",
   "name": "python3"
  },
  "language_info": {
   "codemirror_mode": {
    "name": "ipython",
    "version": 3
   },
   "file_extension": ".py",
   "mimetype": "text/x-python",
   "name": "python",
   "nbconvert_exporter": "python",
   "pygments_lexer": "ipython3",
   "version": "3.12.0"
  }
 },
 "nbformat": 4,
 "nbformat_minor": 2
}
