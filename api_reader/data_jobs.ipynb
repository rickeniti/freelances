{
 "cells": [
  {
   "cell_type": "code",
   "execution_count": 9,
   "metadata": {},
   "outputs": [
    {
     "name": "stdout",
     "output_type": "stream",
     "text": [
      "Min Rating: 4.0\n",
      "Min Recommendation %: 4.0%\n",
      "Min Review Count: 50\n",
      "Keyword list: ['Data Science']\n",
      "Keyword list: ['Data Science', 'Data Engineer']\n",
      "Keyword list: ['Data Science', 'Data Engineer', 'Data Anaysis']\n"
     ]
    },
    {
     "ename": "JSONDecodeError",
     "evalue": "Expecting value: line 1 column 1 (char 0)",
     "output_type": "error",
     "traceback": [
      "\u001b[0;31m---------------------------------------------------------------------------\u001b[0m",
      "\u001b[0;31mJSONDecodeError\u001b[0m                           Traceback (most recent call last)",
      "File \u001b[0;32m~/Documents/Scripts/.venv/lib/python3.12/site-packages/requests/models.py:971\u001b[0m, in \u001b[0;36mResponse.json\u001b[0;34m(self, **kwargs)\u001b[0m\n\u001b[1;32m    970\u001b[0m \u001b[39mtry\u001b[39;00m:\n\u001b[0;32m--> 971\u001b[0m     \u001b[39mreturn\u001b[39;00m complexjson\u001b[39m.\u001b[39;49mloads(\u001b[39mself\u001b[39;49m\u001b[39m.\u001b[39;49mtext, \u001b[39m*\u001b[39;49m\u001b[39m*\u001b[39;49mkwargs)\n\u001b[1;32m    972\u001b[0m \u001b[39mexcept\u001b[39;00m JSONDecodeError \u001b[39mas\u001b[39;00m e:\n\u001b[1;32m    973\u001b[0m     \u001b[39m# Catch JSON-related errors and raise as requests.JSONDecodeError\u001b[39;00m\n\u001b[1;32m    974\u001b[0m     \u001b[39m# This aliases json.JSONDecodeError and simplejson.JSONDecodeError\u001b[39;00m\n",
      "File \u001b[0;32m/Library/Frameworks/Python.framework/Versions/3.12/lib/python3.12/json/__init__.py:346\u001b[0m, in \u001b[0;36mloads\u001b[0;34m(s, cls, object_hook, parse_float, parse_int, parse_constant, object_pairs_hook, **kw)\u001b[0m\n\u001b[1;32m    343\u001b[0m \u001b[39mif\u001b[39;00m (\u001b[39mcls\u001b[39m \u001b[39mis\u001b[39;00m \u001b[39mNone\u001b[39;00m \u001b[39mand\u001b[39;00m object_hook \u001b[39mis\u001b[39;00m \u001b[39mNone\u001b[39;00m \u001b[39mand\u001b[39;00m\n\u001b[1;32m    344\u001b[0m         parse_int \u001b[39mis\u001b[39;00m \u001b[39mNone\u001b[39;00m \u001b[39mand\u001b[39;00m parse_float \u001b[39mis\u001b[39;00m \u001b[39mNone\u001b[39;00m \u001b[39mand\u001b[39;00m\n\u001b[1;32m    345\u001b[0m         parse_constant \u001b[39mis\u001b[39;00m \u001b[39mNone\u001b[39;00m \u001b[39mand\u001b[39;00m object_pairs_hook \u001b[39mis\u001b[39;00m \u001b[39mNone\u001b[39;00m \u001b[39mand\u001b[39;00m \u001b[39mnot\u001b[39;00m kw):\n\u001b[0;32m--> 346\u001b[0m     \u001b[39mreturn\u001b[39;00m _default_decoder\u001b[39m.\u001b[39;49mdecode(s)\n\u001b[1;32m    347\u001b[0m \u001b[39mif\u001b[39;00m \u001b[39mcls\u001b[39m \u001b[39mis\u001b[39;00m \u001b[39mNone\u001b[39;00m:\n",
      "File \u001b[0;32m/Library/Frameworks/Python.framework/Versions/3.12/lib/python3.12/json/decoder.py:337\u001b[0m, in \u001b[0;36mJSONDecoder.decode\u001b[0;34m(self, s, _w)\u001b[0m\n\u001b[1;32m    333\u001b[0m \u001b[39m\u001b[39m\u001b[39m\"\"\"Return the Python representation of ``s`` (a ``str`` instance\u001b[39;00m\n\u001b[1;32m    334\u001b[0m \u001b[39mcontaining a JSON document).\u001b[39;00m\n\u001b[1;32m    335\u001b[0m \n\u001b[1;32m    336\u001b[0m \u001b[39m\"\"\"\u001b[39;00m\n\u001b[0;32m--> 337\u001b[0m obj, end \u001b[39m=\u001b[39m \u001b[39mself\u001b[39;49m\u001b[39m.\u001b[39;49mraw_decode(s, idx\u001b[39m=\u001b[39;49m_w(s, \u001b[39m0\u001b[39;49m)\u001b[39m.\u001b[39;49mend())\n\u001b[1;32m    338\u001b[0m end \u001b[39m=\u001b[39m _w(s, end)\u001b[39m.\u001b[39mend()\n",
      "File \u001b[0;32m/Library/Frameworks/Python.framework/Versions/3.12/lib/python3.12/json/decoder.py:355\u001b[0m, in \u001b[0;36mJSONDecoder.raw_decode\u001b[0;34m(self, s, idx)\u001b[0m\n\u001b[1;32m    354\u001b[0m \u001b[39mexcept\u001b[39;00m \u001b[39mStopIteration\u001b[39;00m \u001b[39mas\u001b[39;00m err:\n\u001b[0;32m--> 355\u001b[0m     \u001b[39mraise\u001b[39;00m JSONDecodeError(\u001b[39m\"\u001b[39m\u001b[39mExpecting value\u001b[39m\u001b[39m\"\u001b[39m, s, err\u001b[39m.\u001b[39mvalue) \u001b[39mfrom\u001b[39;00m \u001b[39mNone\u001b[39;00m\n\u001b[1;32m    356\u001b[0m \u001b[39mreturn\u001b[39;00m obj, end\n",
      "\u001b[0;31mJSONDecodeError\u001b[0m: Expecting value: line 1 column 1 (char 0)",
      "\nDuring handling of the above exception, another exception occurred:\n",
      "\u001b[0;31mJSONDecodeError\u001b[0m                           Traceback (most recent call last)",
      "\u001b[1;32m/Users/rickeniti/Documents/Scripts/data_jobs.ipynb Cell 1\u001b[0m line \u001b[0;36m6\n\u001b[1;32m     <a href='vscode-notebook-cell:/Users/rickeniti/Documents/Scripts/data_jobs.ipynb#W0sZmlsZQ%3D%3D?line=61'>62</a>\u001b[0m \u001b[39mfor\u001b[39;00m keyword \u001b[39min\u001b[39;00m keyword_list:\n\u001b[1;32m     <a href='vscode-notebook-cell:/Users/rickeniti/Documents/Scripts/data_jobs.ipynb#W0sZmlsZQ%3D%3D?line=62'>63</a>\u001b[0m     \u001b[39mwhile\u001b[39;00m \u001b[39mTrue\u001b[39;00m:\n\u001b[0;32m---> <a href='vscode-notebook-cell:/Users/rickeniti/Documents/Scripts/data_jobs.ipynb#W0sZmlsZQ%3D%3D?line=63'>64</a>\u001b[0m         jobs \u001b[39m=\u001b[39m get_jobs(usr_pid, usr_api_key, keyword, page,  min_rating,  min_rec_perc, min_reviews)\n\u001b[1;32m     <a href='vscode-notebook-cell:/Users/rickeniti/Documents/Scripts/data_jobs.ipynb#W0sZmlsZQ%3D%3D?line=64'>65</a>\u001b[0m         \u001b[39mif\u001b[39;00m \u001b[39mnot\u001b[39;00m jobs:\n\u001b[1;32m     <a href='vscode-notebook-cell:/Users/rickeniti/Documents/Scripts/data_jobs.ipynb#W0sZmlsZQ%3D%3D?line=65'>66</a>\u001b[0m             \u001b[39mbreak\u001b[39;00m\n",
      "\u001b[1;32m/Users/rickeniti/Documents/Scripts/data_jobs.ipynb Cell 1\u001b[0m line \u001b[0;36m2\n\u001b[1;32m      <a href='vscode-notebook-cell:/Users/rickeniti/Documents/Scripts/data_jobs.ipynb#W0sZmlsZQ%3D%3D?line=5'>6</a>\u001b[0m params \u001b[39m=\u001b[39m {\n\u001b[1;32m      <a href='vscode-notebook-cell:/Users/rickeniti/Documents/Scripts/data_jobs.ipynb#W0sZmlsZQ%3D%3D?line=6'>7</a>\u001b[0m     \u001b[39m\"\u001b[39m\u001b[39mv\u001b[39m\u001b[39m\"\u001b[39m: \u001b[39m\"\u001b[39m\u001b[39m1\u001b[39m\u001b[39m\"\u001b[39m,\n\u001b[1;32m      <a href='vscode-notebook-cell:/Users/rickeniti/Documents/Scripts/data_jobs.ipynb#W0sZmlsZQ%3D%3D?line=7'>8</a>\u001b[0m     \u001b[39m\"\u001b[39m\u001b[39mformat\u001b[39m\u001b[39m\"\u001b[39m: \u001b[39m\"\u001b[39m\u001b[39mjson\u001b[39m\u001b[39m\"\u001b[39m,\n\u001b[0;32m   (...)\u001b[0m\n\u001b[1;32m     <a href='vscode-notebook-cell:/Users/rickeniti/Documents/Scripts/data_jobs.ipynb#W0sZmlsZQ%3D%3D?line=18'>19</a>\u001b[0m     \u001b[39m\"\u001b[39m\u001b[39mminReviewCount\u001b[39m\u001b[39m\"\u001b[39m: min_reviews\n\u001b[1;32m     <a href='vscode-notebook-cell:/Users/rickeniti/Documents/Scripts/data_jobs.ipynb#W0sZmlsZQ%3D%3D?line=19'>20</a>\u001b[0m }\n\u001b[1;32m     <a href='vscode-notebook-cell:/Users/rickeniti/Documents/Scripts/data_jobs.ipynb#W0sZmlsZQ%3D%3D?line=21'>22</a>\u001b[0m response \u001b[39m=\u001b[39m requests\u001b[39m.\u001b[39mget(url, params\u001b[39m=\u001b[39mparams)\n\u001b[0;32m---> <a href='vscode-notebook-cell:/Users/rickeniti/Documents/Scripts/data_jobs.ipynb#W0sZmlsZQ%3D%3D?line=22'>23</a>\u001b[0m data \u001b[39m=\u001b[39m response\u001b[39m.\u001b[39;49mjson()\n\u001b[1;32m     <a href='vscode-notebook-cell:/Users/rickeniti/Documents/Scripts/data_jobs.ipynb#W0sZmlsZQ%3D%3D?line=23'>24</a>\u001b[0m \u001b[39mif\u001b[39;00m response\u001b[39m.\u001b[39mstatus_code \u001b[39m==\u001b[39m \u001b[39m200\u001b[39m:\n\u001b[1;32m     <a href='vscode-notebook-cell:/Users/rickeniti/Documents/Scripts/data_jobs.ipynb#W0sZmlsZQ%3D%3D?line=24'>25</a>\u001b[0m     \u001b[39mreturn\u001b[39;00m data[\u001b[39m\"\u001b[39m\u001b[39mresponse\u001b[39m\u001b[39m\"\u001b[39m][\u001b[39m\"\u001b[39m\u001b[39mresults\u001b[39m\u001b[39m\"\u001b[39m]\n",
      "File \u001b[0;32m~/Documents/Scripts/.venv/lib/python3.12/site-packages/requests/models.py:975\u001b[0m, in \u001b[0;36mResponse.json\u001b[0;34m(self, **kwargs)\u001b[0m\n\u001b[1;32m    971\u001b[0m     \u001b[39mreturn\u001b[39;00m complexjson\u001b[39m.\u001b[39mloads(\u001b[39mself\u001b[39m\u001b[39m.\u001b[39mtext, \u001b[39m*\u001b[39m\u001b[39m*\u001b[39mkwargs)\n\u001b[1;32m    972\u001b[0m \u001b[39mexcept\u001b[39;00m JSONDecodeError \u001b[39mas\u001b[39;00m e:\n\u001b[1;32m    973\u001b[0m     \u001b[39m# Catch JSON-related errors and raise as requests.JSONDecodeError\u001b[39;00m\n\u001b[1;32m    974\u001b[0m     \u001b[39m# This aliases json.JSONDecodeError and simplejson.JSONDecodeError\u001b[39;00m\n\u001b[0;32m--> 975\u001b[0m     \u001b[39mraise\u001b[39;00m RequestsJSONDecodeError(e\u001b[39m.\u001b[39mmsg, e\u001b[39m.\u001b[39mdoc, e\u001b[39m.\u001b[39mpos)\n",
      "\u001b[0;31mJSONDecodeError\u001b[0m: Expecting value: line 1 column 1 (char 0)"
     ]
    }
   ],
   "source": [
    "import requests\n",
    "import pandas as pd\n",
    "\n",
    "def get_jobs(partner_id, api_key, keyword, page, min_rating, min_rec_perc, min_reviews):\n",
    "    url = \"https://api.glassdoor.com/api/api.htm\"\n",
    "    params = {\n",
    "        \"v\": \"1\",\n",
    "        \"format\": \"jsonß\",\n",
    "        \"t.p\": partner_id,\n",
    "        \"t.k\": api_key,\n",
    "        \"userip\": \"0.0.0.0\",\n",
    "        \"useragent\": \"Mozilla\",\n",
    "        \"action\": \"jobs\",\n",
    "        \"country\": 'United States',\n",
    "        \"q\": keyword,\n",
    "        \"page\": page,\n",
    "        \"minRating\": min_rating,\n",
    "        \"minRecommendPercent\": min_rec_perc,\n",
    "        \"minReviewCount\": min_reviews\n",
    "    }\n",
    "\n",
    "    response = requests.get(url, params=params)\n",
    "    data = response.json()\n",
    "    if response.status_code == 200:\n",
    "        return data[\"response\"][\"results\"]\n",
    "    else:\n",
    "        print(\"Error:\", data[\"status\"])\n",
    "        return []\n",
    "\n",
    "### Requesting user's API credentials\n",
    "usr_pid = input('Insert your partner ID: ')\n",
    "usr_api_key = input('Insert your API Key: ')\n",
    "min_rating = float(input('Insert the min desired rating: '))\n",
    "min_rec_perc = float(input('Insert the min recommendation %: '))\n",
    "min_reviews = int(input('Insert the min review count: '))\n",
    "\n",
    "print(f'Min Rating: {min_rating}\\nMin Recommendation %: {min_rating}%\\nMin Review Count: {min_reviews}')\n",
    "\n",
    "\n",
    "### Creating list with keywords to search through Glassdoor's API\n",
    "keyword_list = []\n",
    "\n",
    "while True:\n",
    "    answer = ''\n",
    "    kw = input('Type your job keyword: ').title()\n",
    "    if kw in keyword_list:\n",
    "        print('This keyword has already been included. Type another one')\n",
    "    else:\n",
    "        keyword_list.append(kw)\n",
    "        print(f'Keyword list: {keyword_list}')\n",
    "\n",
    "        while answer not in ('y', 'n'):\n",
    "            answer = input('Would you like to add any other keyword? (y/n) ').lower()\n",
    "\n",
    "        if answer == 'n': break\n",
    "        \n",
    "        else: pass\n",
    "        \n",
    "jobs_interested = []\n",
    "page = 1\n",
    "\n",
    "for keyword in keyword_list:\n",
    "    while True:\n",
    "        jobs = get_jobs(usr_pid, usr_api_key, keyword, page,  min_rating,  min_rec_perc, min_reviews)\n",
    "        if not jobs:\n",
    "            break\n",
    "        jobs_interested.extend(jobs)\n",
    "        page += 1\n",
    "\n",
    "df = pd.DataFrame(jobs_interested)\n",
    "df.to_excel(\"data_jobs.xlsx\", index=False)\n"
   ]
  },
  {
   "cell_type": "code",
   "execution_count": 5,
   "metadata": {},
   "outputs": [
    {
     "name": "stdout",
     "output_type": "stream",
     "text": [
      "Keyword list: ['Data Science']\n",
      "Keyword list: ['Data Science', 'Data Analysis']\n",
      "This keyword has already been included. Type another one\n",
      "Keyword list: ['Data Science', 'Data Analysis', 'Data Engineer']\n"
     ]
    }
   ],
   "source": [
    "### Creating list with keywords to search through Glassdoor's API\n",
    "keyword_list = []\n",
    "\n",
    "while True:\n",
    "    answer = ''\n",
    "    kw = input('Type your job keyword: ').title()\n",
    "    if kw in keyword_list:\n",
    "        print('This keyword has already been included. Type another one')\n",
    "    else:\n",
    "        keyword_list.append(kw)\n",
    "        print(f'Keyword list: {keyword_list}')\n",
    "\n",
    "        while answer not in ('y', 'n'):\n",
    "            answer = input('Would you like to add any other keyword? (y/n) ').lower()\n",
    "\n",
    "        if answer == 'n': break\n",
    "        \n",
    "        else: pass"
   ]
  },
  {
   "cell_type": "code",
   "execution_count": null,
   "metadata": {},
   "outputs": [],
   "source": []
  }
 ],
 "metadata": {
  "kernelspec": {
   "display_name": ".venv",
   "language": "python",
   "name": "python3"
  },
  "language_info": {
   "codemirror_mode": {
    "name": "ipython",
    "version": 3
   },
   "file_extension": ".py",
   "mimetype": "text/x-python",
   "name": "python",
   "nbconvert_exporter": "python",
   "pygments_lexer": "ipython3",
   "version": "3.12.0"
  }
 },
 "nbformat": 4,
 "nbformat_minor": 2
}
