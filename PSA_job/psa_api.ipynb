{
 "cells": [
  {
   "cell_type": "markdown",
   "metadata": {},
   "source": [
    "### To-do list\n",
    "- [x] Test connection to the API\n",
    "- [x] Read cache file\n",
    "- [x] Create a function that will generate valid certification numbers\n",
    "- [x] Create functions for all two API's\n",
    "- [x] Organize all the card information he needs in a spreadsheet\n",
    "- [x] Save photos on a different folder\n",
    "- [x] Create links to the photos in the spreadsheet\n",
    "\n",
    "### Notes\n",
    "the beginning of the new lighthouse label started somewhere in the 274XXXXX range. from 200XXXX to 273XXXXX were the blank then hologram labels (2010 or so to 2017). since PSA used the 3XXXXXXX range years ago, they skipped it for now. then the 400XXXXX started up and is currently in the 480XXXXX range.\n",
    "\n",
    "it started years ago numerically in order, not sure what happened with the skipping around. the certs beginning with 0, 1, 3 and 5 are all older numbers usually found on older 1990's-2000's holders. certs starting with 8's are usually PSA/DNA blue labels and now used on reds also for DNA authentic items.\n",
    "\n",
    "Yes, cards that were graded as cert #20,000,000 were done in approximately mid-2012.\n",
    "\n",
    "Around 23,000,000 they started adding the hologram to the front of flips. Around 28,000,000 they started adding the PSA Lighthouse label.\n",
    "Higher than 30,000,000, they would need to have the PSA Lighthouse label. Many of PSA's VERY OLD grades had Cert numbers from 30Million, 40M, 90M, so they had to skip those numbers when their numbering system finally caught up to those certs. So if you see any cards between 30M and 43M, they need to have the most current lighthouse label to be graded between 2012 and now. It's still slightly possible they were graded 20 years ago and were sent in for reholdering recently, but if they're from your personal collection, that doesn't really apply because you would know which cards those are.\n",
    "\n",
    "### Conclusions\n",
    "- Do not use cert numbers from 30M to 43M\n",
    "- Cert numbers started in the 20M range and are currently in the 48M range"
   ]
  },
  {
   "cell_type": "code",
   "execution_count": 50,
   "metadata": {},
   "outputs": [],
   "source": [
    "import requests\n",
    "import pandas as pd\n",
    "import random\n",
    "import os"
   ]
  },
  {
   "cell_type": "code",
   "execution_count": 1,
   "metadata": {},
   "outputs": [],
   "source": [
    "api_token = 'RDH-9Ozp1H9i-rGhHtZ48DcpI_lr8einCkIklByDbGuUbeIothnq_DiEp0Axz517rNHupElOguFOFmpp_1Xc37B1fHh7f7vy9ubZStKqoen3R_NgfZO-AjegRGTXD11rU9x18Q3MccDrzmMNBkceOb8YQfP3R9pzd3_GQ46zSthuCzhzrWSUi0ejSOLeh1NOaQ8M0-ply7hjJyfQTXYzVUmWWBS8bkz01r1cpOLG1QN8wpMb6yhNgSEh6VtAwgzurcMAwm1puxpxn1-awYOfId63uWBktY9sHorH6YzQIe1hWeXI'"
   ]
  },
  {
   "cell_type": "markdown",
   "metadata": {},
   "source": [
    "### Declaring functions"
   ]
  },
  {
   "cell_type": "code",
   "execution_count": 52,
   "metadata": {},
   "outputs": [],
   "source": [
    "### API Function\n",
    "def get_card_info(cert_number, access_token):\n",
    "    card_info = f'https://api.psacard.com/publicapi/cert/GetByCertNumber/{cert_number}'\n",
    "\n",
    "    headers = {\n",
    "        \"Authorization\": f\"bearer {access_token}\"\n",
    "    }\n",
    "\n",
    "    response = requests.get(card_info, headers=headers)\n",
    "\n",
    "    if response.status_code == 200:\n",
    "        # API call was successful\n",
    "        data = response.json()\n",
    "        return data\n",
    "    else:\n",
    "        # Handle API error\n",
    "        print(f\"Error: {response.status_code}\")\n",
    "        return None\n",
    "    \n",
    "def get_card_images(cert_number, access_token):\n",
    "    images = f'https://api.psacard.com/publicapi/cert/GetImagesByCertNumber/{cert_number}'\n",
    "\n",
    "    headers = {\n",
    "        \"Authorization\": f\"bearer {access_token}\"\n",
    "    }\n",
    "\n",
    "    response = requests.get(images, headers=headers)\n",
    "\n",
    "    if response.status_code == 200:\n",
    "        # API call was successful\n",
    "        data = response.json()\n",
    "        return data\n",
    "    else:\n",
    "        # Handle API error\n",
    "        print(f\"Error: {response.status_code}\")\n",
    "        return None\n",
    "    \n",
    "def download_image(url, folder_path, filename):\n",
    "    # Create the folder if it doesn't exist\n",
    "    os.makedirs(folder_path, exist_ok=True)\n",
    "\n",
    "    # Get the image content from the URL\n",
    "    response = requests.get(url)\n",
    "    if response.status_code == 200:\n",
    "        # Save the image to the specified folder with the given filename\n",
    "        with open(os.path.join(folder_path, filename), \"wb\") as f:\n",
    "            f.write(response.content)\n",
    "        print(f\"Image downloaded: {filename}\")\n",
    "    else:\n",
    "        print(f\"Failed to download image: {filename}\")\n",
    "    \n",
    "### Cert Number Generator\n",
    "def generate_certification_number(consulted_numbers):\n",
    "    while True:\n",
    "        if not consulted_numbers:  # If the set is empty, generate a random number and return it\n",
    "            return random.randint(60000000, 87000000)\n",
    "        \n",
    "        cert_number = random.randint(60000000, 87000000)\n",
    "        if cert_number not in consulted_numbers:\n",
    "            return cert_number\n",
    "        \n",
    "### Read and update cache file\n",
    "def load_cache(cache_file):\n",
    "    consulted_numbers = set()\n",
    "    if os.path.exists(cache_file):\n",
    "        with open(cache_file, \"r\") as f:\n",
    "            for line in f:\n",
    "                consulted_numbers.add(int(line.strip()))\n",
    "    return consulted_numbers\n",
    "\n",
    "def update_cache(cache_file, consulted_numbers):\n",
    "    with open(cache_file, \"w\") as f:\n",
    "        for cert_number in consulted_numbers:\n",
    "            f.write(str(cert_number) + \"\\n\")"
   ]
  },
  {
   "cell_type": "markdown",
   "metadata": {},
   "source": [
    "### Reading cache file"
   ]
  },
  {
   "cell_type": "code",
   "execution_count": null,
   "metadata": {},
   "outputs": [],
   "source": [
    "card_info_list = []\n",
    "cache_file = \"consulted_cert_numbers.txt\"\n",
    "\n",
    "# Load consulted certification numbers from the cache file\n",
    "consulted_numbers = load_cache(cache_file)\n",
    "\n",
    "# Reading database\n",
    "database_path = \"Card_database.xlsx\"\n",
    "\n",
    "# Check if the existing file exists\n",
    "if os.path.exists(database_path):\n",
    "    # Load the existing Excel file into a DataFrame\n",
    "    existing_df = pd.read_excel(database_path)\n",
    "else:\n",
    "    # If the file doesn't exist, create an empty DataFrame\n",
    "    existing_df = pd.DataFrame()"
   ]
  },
  {
   "cell_type": "markdown",
   "metadata": {},
   "source": [
    "### Loop to get info for each of the 400 cards"
   ]
  },
  {
   "cell_type": "code",
   "execution_count": null,
   "metadata": {},
   "outputs": [],
   "source": [
    "while len(card_info_list) < 400:\n",
    "    # Generates the cert number\n",
    "    cert_number = generate_certification_number(consulted_numbers)\n",
    "    try:\n",
    "        # Calls the API to get card info\n",
    "        card_info = get_card_info(cert_number, api_token)\n",
    "\n",
    "        if not card_info:\n",
    "            consulted_numbers.add(cert_number)\n",
    "            continue  # Skip this card if data doesn't exist\n",
    "        \n",
    "        cert_number = card_info['PSACert']['CertNumber']\n",
    "        card_year = card_info['PSACert']['Year']\n",
    "        card_brand = card_info['PSACert']['Brand']\n",
    "        card_number = card_info['PSACert']['CardNumber']\n",
    "        card_player = card_info['PSACert']['Subject']\n",
    "        card_variety = card_info['PSACert']['Variety']\n",
    "        card_grade = card_info['PSACert']['CardGrade']\n",
    "\n",
    "        card_images = get_card_images(cert_number, api_token)\n",
    "\n",
    "        try:\n",
    "            # URL of the image to download\n",
    "            back_image = card_images[0]['ImageURL']\n",
    "            front_image = card_images[1]['ImageURL']\n",
    "\n",
    "            # Folder path to save the image\n",
    "            folder_path = 'images'\n",
    "\n",
    "            # Filename for the image\n",
    "            filename_back = f'{cert_number}_back.jpg'\n",
    "            filename_front = f'{cert_number}_front.jpg'\n",
    "\n",
    "            download_image(back_image, folder_path, filename_back)\n",
    "            download_image(front_image, folder_path, filename_front)\n",
    "\n",
    "            back_hyperlink = f'=HYPERLINK(\"{filename_back}\", \"Image\")'\n",
    "            front_hyperlink = f'=HYPERLINK(\"{filename_front}\", \"Image\")'\n",
    "\n",
    "        except:\n",
    "            image_hyperlink = 'No Image Available'\n",
    "\n",
    "        # Add card information to the list\n",
    "        card_info_list.append({\n",
    "            'Cert number': cert_number,\n",
    "            'Year': card_year,\n",
    "            'Brand': card_brand,\n",
    "            'Card number': card_number,\n",
    "            'Player': card_player,\n",
    "            'Variety': card_variety,\n",
    "            'Grade': card_grade,\n",
    "            'ImageLink': image_hyperlink  # Use the hyperlink formula\n",
    "        })\n",
    "\n",
    "        consulted_numbers.add(cert_number)\n",
    "\n",
    "    except:\n",
    "        consulted_numbers.add(cert_number)\n",
    "    "
   ]
  },
  {
   "cell_type": "markdown",
   "metadata": {},
   "source": [
    "### Updating cache and saving cert numbers to an existing Excel file"
   ]
  },
  {
   "cell_type": "code",
   "execution_count": 51,
   "metadata": {},
   "outputs": [
    {
     "ename": "NameError",
     "evalue": "name 'cache_file' is not defined",
     "output_type": "error",
     "traceback": [
      "\u001b[0;31m---------------------------------------------------------------------------\u001b[0m",
      "\u001b[0;31mNameError\u001b[0m                                 Traceback (most recent call last)",
      "\u001b[1;32m/Users/rickeniti/Documents/Scripts/open_jobs/psa_api.ipynb Cell 11\u001b[0m line \u001b[0;36m1\n\u001b[0;32m----> <a href='vscode-notebook-cell:/Users/rickeniti/Documents/Scripts/open_jobs/psa_api.ipynb#X26sZmlsZQ%3D%3D?line=0'>1</a>\u001b[0m update_cache(cache_file, consulted_numbers)\n",
      "\u001b[0;31mNameError\u001b[0m: name 'cache_file' is not defined"
     ]
    }
   ],
   "source": [
    "update_cache(cache_file, consulted_numbers)\n",
    "new_df = pd.DataFrame(card_info_list)\n",
    "\n",
    "# Concatenate existing and new DataFrames\n",
    "final_df = pd.concat([existing_df, new_df], ignore_index=True)\n",
    "\n",
    "# Save the combined DataFrame to the Excel file\n",
    "final_df.to_excel(database_path, index=False)"
   ]
  },
  {
   "cell_type": "markdown",
   "metadata": {},
   "source": [
    "# Test cells"
   ]
  },
  {
   "cell_type": "code",
   "execution_count": 6,
   "metadata": {},
   "outputs": [
    {
     "name": "stdout",
     "output_type": "stream",
     "text": [
      "{'PSACert': {'CertNumber': '16992626', 'SpecID': 184351, 'SpecNumber': '0101633000', 'LabelType': 'LighthouseLabel', 'ReverseBarCode': True, 'Year': '1963', 'Brand': 'TOPPS', 'Category': 'BASEBALL CARDS', 'CardNumber': '300', 'Subject': 'WILLIE MAYS', 'Variety': '', 'IsPSADNA': False, 'IsDualCert': False, 'GradeDescription': 'GEM MT 10', 'CardGrade': 'GEM MT 10', 'TotalPopulation': 1, 'TotalPopulationWithQualifier': 0, 'PopulationHigher': 0}}\n"
     ]
    }
   ],
   "source": [
    "def get_card_info(cert_number, access_token):\n",
    "    url = f\"https://api.psacard.com/publicapi/cert/GetByCertNumber/{cert_number}\"\n",
    "    headers = {\n",
    "        \"Authorization\": f\"bearer {access_token}\"\n",
    "    }\n",
    "\n",
    "    response = requests.get(url, headers=headers)\n",
    "\n",
    "    if response.status_code == 200:\n",
    "        # API call was successful\n",
    "        data = response.json()\n",
    "        return data\n",
    "    else:\n",
    "        # Handle API error\n",
    "        print(f\"Error: {response.status_code}\")\n",
    "        return None\n",
    "\n",
    "# Example usage\n",
    "cert_number = \"16992626\"  # Example PSA certification number\n",
    "\n",
    "card_info = get_card_info(cert_number, api_token)\n",
    "if card_info:\n",
    "    print(card_info)\n",
    "else:\n",
    "    print(\"Failed to retrieve card information.\")"
   ]
  },
  {
   "cell_type": "markdown",
   "metadata": {},
   "source": []
  },
  {
   "cell_type": "code",
   "execution_count": 46,
   "metadata": {},
   "outputs": [
    {
     "name": "stdout",
     "output_type": "stream",
     "text": [
      "[{'IsFrontImage': False, 'ImageURL': 'https://d1htnxwo4o0jhw.cloudfront.net/cert/138754979/Oo_EP8WE40-ylkFv3D78IA.jpg'}, {'IsFrontImage': True, 'ImageURL': 'https://d1htnxwo4o0jhw.cloudfront.net/cert/138754979/oh-FZb2dIUm1td51eC0HVA.jpg'}]\n"
     ]
    }
   ],
   "source": [
    "cert_number = \"16992626\"  # Example PSA certification number\n",
    "\n",
    "card_info = get_card_images(cert_number, api_token)\n",
    "if card_info:\n",
    "    print(card_info)\n",
    "else:\n",
    "    print(\"Failed to retrieve card information.\")"
   ]
  },
  {
   "cell_type": "code",
   "execution_count": 48,
   "metadata": {},
   "outputs": [
    {
     "data": {
      "text/plain": [
       "'https://d1htnxwo4o0jhw.cloudfront.net/cert/138754979/Oo_EP8WE40-ylkFv3D78IA.jpg'"
      ]
     },
     "execution_count": 48,
     "metadata": {},
     "output_type": "execute_result"
    }
   ],
   "source": [
    "card_info[0]['ImageURL']"
   ]
  },
  {
   "cell_type": "code",
   "execution_count": null,
   "metadata": {},
   "outputs": [],
   "source": [
    "columns = ['Cert Number',\n",
    "           'Year',\n",
    "           'Brand',\n",
    "           'Card number',\n",
    "           'Player', # Subject\n",
    "           'Variety',\n",
    "           'Grade',\n",
    "           'Front image',\n",
    "           'Back image'\n",
    "           ]"
   ]
  },
  {
   "cell_type": "code",
   "execution_count": 11,
   "metadata": {},
   "outputs": [
    {
     "data": {
      "text/plain": [
       "{'CertNumber': '16992626',\n",
       " 'SpecID': 184351,\n",
       " 'SpecNumber': '0101633000',\n",
       " 'LabelType': 'LighthouseLabel',\n",
       " 'ReverseBarCode': True,\n",
       " 'Year': '1963',\n",
       " 'Brand': 'TOPPS',\n",
       " 'Category': 'BASEBALL CARDS',\n",
       " 'CardNumber': '300',\n",
       " 'Subject': 'WILLIE MAYS',\n",
       " 'Variety': '',\n",
       " 'IsPSADNA': False,\n",
       " 'IsDualCert': False,\n",
       " 'GradeDescription': 'GEM MT 10',\n",
       " 'CardGrade': 'GEM MT 10',\n",
       " 'TotalPopulation': 1,\n",
       " 'TotalPopulationWithQualifier': 0,\n",
       " 'PopulationHigher': 0}"
      ]
     },
     "execution_count": 11,
     "metadata": {},
     "output_type": "execute_result"
    }
   ],
   "source": [
    "cert_number = card_info['PSACert']['CertNumber']\n",
    "card_year = card_info['PSACert']['Year']\n",
    "card_brand = card_info['PSACert']['Brand']\n",
    "card_number = card_info['PSACert']['CardNumber']\n",
    "card_player = card_info['PSACert']['Subject']\n",
    "card_variety = card_info['PSACert']['Variety']\n",
    "card_grade = card_info['PSACert']['CardGrade']"
   ]
  },
  {
   "cell_type": "code",
   "execution_count": 43,
   "metadata": {},
   "outputs": [
    {
     "data": {
      "text/plain": [
       "73168831"
      ]
     },
     "execution_count": 43,
     "metadata": {},
     "output_type": "execute_result"
    }
   ],
   "source": [
    "import random\n",
    "\n",
    "def generate_certification_number(consulted_numbers):\n",
    "    while True:\n",
    "        if not consulted_numbers:  # If the set is empty, generate a random number and return it\n",
    "            return random.randint(60000000, 87000000)\n",
    "        \n",
    "        if cert_number not in consulted_numbers:\n",
    "            return random.randint(60000000, 87000000)\n",
    "        \n",
    "generate_certification_number([])"
   ]
  },
  {
   "cell_type": "code",
   "execution_count": null,
   "metadata": {},
   "outputs": [],
   "source": []
  },
  {
   "cell_type": "code",
   "execution_count": null,
   "metadata": {},
   "outputs": [],
   "source": []
  }
 ],
 "metadata": {
  "kernelspec": {
   "display_name": ".venv",
   "language": "python",
   "name": "python3"
  },
  "language_info": {
   "codemirror_mode": {
    "name": "ipython",
    "version": 3
   },
   "file_extension": ".py",
   "mimetype": "text/x-python",
   "name": "python",
   "nbconvert_exporter": "python",
   "pygments_lexer": "ipython3",
   "version": "3.12.0"
  }
 },
 "nbformat": 4,
 "nbformat_minor": 2
}
